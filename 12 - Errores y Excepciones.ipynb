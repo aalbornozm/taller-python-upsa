{
 "cells": [
  {
   "cell_type": "markdown",
   "id": "completed-arrest",
   "metadata": {},
   "source": [
    "# Errores y excepciones"
   ]
  },
  {
   "cell_type": "markdown",
   "id": "committed-compensation",
   "metadata": {},
   "source": [
    "## Introducción\n",
    "\n",
    "Durante la ejecución de código, pueden darse errores que rompan con la ejecución del mismo, pero es posible preverlos y actuar en consecuencia para avisar al usuario del programa que ha ido mal y, tal vez, que puede hacer para solucionarlo"
   ]
  },
  {
   "cell_type": "markdown",
   "id": "molecular-modeling",
   "metadata": {},
   "source": [
    "## Manejo de errores y excepciones\n",
    "\n",
    "Se llama *manejo* de errores a la previsión de que en un fragmento de código, algo puede salir mal. Por ejemplo, en una función `sumar`, se pasan como **parámetro** elementos que no se pueden sumar:"
   ]
  },
  {
   "cell_type": "code",
   "execution_count": 2,
   "id": "applicable-making",
   "metadata": {},
   "outputs": [
    {
     "ename": "TypeError",
     "evalue": "can only concatenate str (not \"int\") to str",
     "output_type": "error",
     "traceback": [
      "\u001b[0;31m\u001b[0m",
      "\u001b[0;31mTypeError\u001b[0mTraceback (most recent call last)",
      "\u001b[0;32m<ipython-input-2-d0cdd5093774>\u001b[0m in \u001b[0;36m<module>\u001b[0;34m\u001b[0m\n\u001b[1;32m      2\u001b[0m     \u001b[0;32mreturn\u001b[0m \u001b[0ma\u001b[0m \u001b[0;34m+\u001b[0m \u001b[0mb\u001b[0m\u001b[0;34m\u001b[0m\u001b[0;34m\u001b[0m\u001b[0m\n\u001b[1;32m      3\u001b[0m \u001b[0;34m\u001b[0m\u001b[0m\n\u001b[0;32m----> 4\u001b[0;31m \u001b[0msumar\u001b[0m\u001b[0;34m(\u001b[0m\u001b[0;34m\"1\"\u001b[0m\u001b[0;34m,\u001b[0m \u001b[0;36m2\u001b[0m\u001b[0;34m)\u001b[0m\u001b[0;34m\u001b[0m\u001b[0;34m\u001b[0m\u001b[0m\n\u001b[0m\u001b[1;32m      5\u001b[0m \u001b[0;34m\u001b[0m\u001b[0m\n\u001b[1;32m      6\u001b[0m \u001b[0mprint\u001b[0m\u001b[0;34m(\u001b[0m\u001b[0;34m\"Como se ha roto, no verás este mensaje\"\u001b[0m\u001b[0;34m)\u001b[0m\u001b[0;34m\u001b[0m\u001b[0;34m\u001b[0m\u001b[0m\n",
      "\u001b[0;32m<ipython-input-2-d0cdd5093774>\u001b[0m in \u001b[0;36msumar\u001b[0;34m(a, b)\u001b[0m\n\u001b[1;32m      1\u001b[0m \u001b[0;32mdef\u001b[0m \u001b[0msumar\u001b[0m\u001b[0;34m(\u001b[0m\u001b[0ma\u001b[0m\u001b[0;34m,\u001b[0m \u001b[0mb\u001b[0m\u001b[0;34m)\u001b[0m\u001b[0;34m:\u001b[0m\u001b[0;34m\u001b[0m\u001b[0;34m\u001b[0m\u001b[0m\n\u001b[0;32m----> 2\u001b[0;31m     \u001b[0;32mreturn\u001b[0m \u001b[0ma\u001b[0m \u001b[0;34m+\u001b[0m \u001b[0mb\u001b[0m\u001b[0;34m\u001b[0m\u001b[0;34m\u001b[0m\u001b[0m\n\u001b[0m\u001b[1;32m      3\u001b[0m \u001b[0;34m\u001b[0m\u001b[0m\n\u001b[1;32m      4\u001b[0m \u001b[0msumar\u001b[0m\u001b[0;34m(\u001b[0m\u001b[0;34m\"1\"\u001b[0m\u001b[0;34m,\u001b[0m \u001b[0;36m2\u001b[0m\u001b[0;34m)\u001b[0m\u001b[0;34m\u001b[0m\u001b[0;34m\u001b[0m\u001b[0m\n\u001b[1;32m      5\u001b[0m \u001b[0;34m\u001b[0m\u001b[0m\n",
      "\u001b[0;31mTypeError\u001b[0m: can only concatenate str (not \"int\") to str"
     ]
    }
   ],
   "source": [
    "def sumar(a, b):\n",
    "    return a + b\n",
    "\n",
    "sumar(\"1\", 2)\n",
    "\n",
    "print(\"Como se ha roto, no verás este mensaje\")"
   ]
  },
  {
   "cell_type": "markdown",
   "id": "steady-sacramento",
   "metadata": {},
   "source": [
    "Para los **errores** o **excepciones** comunes, **python** indica muy bien el problema:\n",
    "\n",
    "`TypeError: can only concatenate str (not \"int\") to str`\n",
    "\n",
    "Lo primero es el tipo de **error** ocasionado, `TypeError` en este caso, y luego una breve explicación de la causa.\n",
    "\n",
    "Para manejar el **error** `TypeError`, basta con incluir un bloque **try/catch**:"
   ]
  },
  {
   "cell_type": "code",
   "execution_count": 14,
   "id": "organized-tucson",
   "metadata": {},
   "outputs": [
    {
     "name": "stdout",
     "output_type": "stream",
     "text": [
      "Atención!! Los objetos recibidos 1 (str) y 2 (int) no se pueden sumar entre si\n",
      "Como la excepción está manejada, si verás este mensaje\n"
     ]
    }
   ],
   "source": [
    "def sumar(a, b):\n",
    "    try:\n",
    "        return a + b\n",
    "    except TypeError:\n",
    "        print(f\"Atención!! Los objetos recibidos {a} ({type(a).__name__}) y {b} ({type(b).__name__}) no se pueden sumar entre si\")\n",
    "\n",
    "sumar(\"1\", 2)\n",
    "\n",
    "print(\"Como la excepción está manejada, si verás este mensaje\")"
   ]
  },
  {
   "cell_type": "code",
   "execution_count": null,
   "id": "express-cradle",
   "metadata": {},
   "outputs": [],
   "source": []
  }
 ],
 "metadata": {
  "kernelspec": {
   "display_name": "Python 3",
   "language": "python",
   "name": "python3"
  },
  "language_info": {
   "codemirror_mode": {
    "name": "ipython",
    "version": 3
   },
   "file_extension": ".py",
   "mimetype": "text/x-python",
   "name": "python",
   "nbconvert_exporter": "python",
   "pygments_lexer": "ipython3",
   "version": "3.8.6"
  }
 },
 "nbformat": 4,
 "nbformat_minor": 5
}
