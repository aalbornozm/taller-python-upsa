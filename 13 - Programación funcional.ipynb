{
 "cells": [
  {
   "cell_type": "markdown",
   "id": "realistic-barrel",
   "metadata": {},
   "source": [
    "# Programación funcional"
   ]
  },
  {
   "cell_type": "markdown",
   "id": "thick-reduction",
   "metadata": {},
   "source": [
    "## Introducción\n",
    "\n",
    "El paradigma de **programación funcional** se basa en la descomposición de un problema en conjuntos de **funciones** que aceptan una entrada y producen una salida, sin importar el estado del programa ni interactuar con él.\n",
    "\n",
    "**Python** es un lenguaje principalmente **imperativo**, con **orientación a objetos** pero que introduce algunos conceptos de **programación funcional**:\n",
    "\n",
    "- **Funciones puras**: son **funciones** que admiten una entrada y producen una salida sin alterar nada más. Para el mismo valor de entrada siempre producirá el mismo valor de salida.\n",
    "\n",
    "- **Inmutabilidad**: Los datos no cambian después de haberse creado. Un ejemplo perfecto es el tipo `set`, que es idéntico a una lista pero con valores únicos que, además, no pueden modificarse sin crear un nuevo `set`.\n",
    "\n",
    "- **Funciones de orden superior**: Las funciones de orden superior son aquellas que admiten como parámetro otra función."
   ]
  },
  {
   "cell_type": "markdown",
   "id": "straight-socket",
   "metadata": {},
   "source": [
    "## Expresiones Lambda\n",
    "\n",
    "Una **expresión lambda** es una **función anónima** que se usa principalmente como parámetro de **funciones de orden superior**:"
   ]
  },
  {
   "cell_type": "code",
   "execution_count": 3,
   "id": "accepting-worse",
   "metadata": {},
   "outputs": [
    {
     "name": "stdout",
     "output_type": "stream",
     "text": [
      "Rango sin modificar: range(1, 10)\n",
      "Rango por 2: [2, 4, 6, 8, 10, 12, 14, 16, 18]\n",
      "Rango de cadenas: ['Mi valor es 2', 'Mi valor es 4', 'Mi valor es 6', 'Mi valor es 8']\n"
     ]
    }
   ],
   "source": [
    "# Función de orden superior que itera un iterable y pasa cada elemento a la función que recibe como parámetro.\n",
    "# Añade el valor a la nueva lista solo si esta devuelve algún valor.\n",
    "# En realidad no se transforma el iterable recibido, se devuelve siempre una nueva lista\n",
    "\n",
    "def transforma_iterables(func, iterable):\n",
    "    return [nuevo_item for item in iterable if (nuevo_item:=func(item))]\n",
    "\n",
    "rango = range(1, 10)\n",
    "\n",
    "print(f\"Rango sin modificar: {rango}\")\n",
    "\n",
    "# Multiplica por 2 todos los elementos\n",
    "nuevo_rango = transforma_iterables(lambda x: x * 2, rango)\n",
    "\n",
    "print(f\"Rango por 2: {nuevo_rango}\")\n",
    "\n",
    "# Obtiene una lista de cadenas de texto con el valor del elemento si es par\n",
    "rango_de_cadenas = transforma_iterables(lambda x: f\"Mi valor es {x}\" if not x % 2 else None, rango)\n",
    "\n",
    "print(f\"Rango de cadenas: {rango_de_cadenas}\")\n",
    "\n"
   ]
  },
  {
   "cell_type": "markdown",
   "id": "representative-springer",
   "metadata": {},
   "source": [
    "La sintaxis de las **expresiones lambda** es: `lambda <parámetros>: <operación con los parámetros recibidos>`.\n",
    "\n",
    "Al igual que en una **función** normal los **parámetros** se añaden *entre paréntesis*, en las **expresiones lambda** se añaden entre la palabra reservada `lambda` y `:`:"
   ]
  },
  {
   "cell_type": "code",
   "execution_count": 24,
   "id": "robust-flush",
   "metadata": {},
   "outputs": [
    {
     "name": "stdout",
     "output_type": "stream",
     "text": [
      "Resulado función normal: 4\n",
      "Resulado expresión lambda: 4\n"
     ]
    }
   ],
   "source": [
    "def func_normal(x, y):\n",
    "    return x + y\n",
    "\n",
    "expr_lambda = lambda x,y: x + y\n",
    "\n",
    "resultado_func_normal = func_normal(2, 2)\n",
    "resultado_expr_lambda = expr_lambda(2, 2)\n",
    "\n",
    "print(f\"Resulado función normal: {resultado_func_normal}\")\n",
    "print(f\"Resulado expresión lambda: {resultado_func_normal}\")"
   ]
  },
  {
   "cell_type": "markdown",
   "id": "developed-automation",
   "metadata": {},
   "source": [
    "De igual manera, se pueden pasar **funciones** como parámetro de **funciones de orden superior**, pero es muy habitual utilizar **expresiones lambda** en ese caso.\n",
    "\n",
    "Las **expresiones lambda** por otro lado, entran muy bien la definición de **funciones puras**, ya que siempre producen la misma salida cuando reciben el mismo valor."
   ]
  },
  {
   "cell_type": "markdown",
   "id": "saved-stadium",
   "metadata": {},
   "source": [
    "## Funciones de orden superior incluidas con Python\n",
    "\n",
    "**Python** incluye varias **funciones de orden superior** muy comunes como son:\n",
    "\n",
    "- `reduce` (Importar de functools con `from functools import reduce`). Reduce iterables a un único valor. Recibe como parámetro una **función** y un **iterable**. `reduce` aplicará la **función** recibida con los dos primeros elementos del iterable para generar un resultado parcial. Ese resultado parcial se pasará como **parámetro** de la función recibida y el siguiente elemento del iterable."
   ]
  },
  {
   "cell_type": "code",
   "execution_count": 4,
   "id": "strong-swiss",
   "metadata": {},
   "outputs": [
    {
     "data": {
      "text/plain": [
       "15"
      ]
     },
     "execution_count": 4,
     "metadata": {},
     "output_type": "execute_result"
    }
   ],
   "source": [
    "from functools import reduce\n",
    "\n",
    "reduce(lambda x, y: x + y, range(1, 6))  # Equivale a 1 + 2 + 3 + 4 + 5"
   ]
  },
  {
   "cell_type": "markdown",
   "id": "beginning-authorization",
   "metadata": {},
   "source": [
    "Paso a paso, se descompone así:"
   ]
  },
  {
   "cell_type": "code",
   "execution_count": 5,
   "id": "equipped-desktop",
   "metadata": {},
   "outputs": [
    {
     "name": "stdout",
     "output_type": "stream",
     "text": [
      "En el paso 1 se suma 1 con 2\n",
      "En el paso 2 se suma 3 con 3\n",
      "En el paso 3 se suma 6 con 4\n",
      "En el paso 4 se suma 10 con 5\n"
     ]
    }
   ],
   "source": [
    "sumas = reduce(lambda x, y: x + [[sum(x[-1]), y]] if isinstance(x, list) else [[x, y]], range(1, 6))\n",
    "\n",
    "for i, v in enumerate(sumas, 1):\n",
    "    print(f\"En el paso {i} se suma {v[0]} con {v[-1]}\")"
   ]
  },
  {
   "cell_type": "markdown",
   "id": "quick-supervisor",
   "metadata": {},
   "source": [
    "- `filter`. Permite filtrar un **iterable** aplicando una condición en la **función** pasada como **parámetro** y genera un nuevo **iterable**. Si la condición se evalúa como positiva, el elemento aparecerá en el **iterable** resultante."
   ]
  },
  {
   "cell_type": "code",
   "execution_count": 13,
   "id": "protecting-cameroon",
   "metadata": {},
   "outputs": [
    {
     "data": {
      "text/plain": [
       "<filter at 0x2139970b0a0>"
      ]
     },
     "execution_count": 13,
     "metadata": {},
     "output_type": "execute_result"
    }
   ],
   "source": [
    "filtrado = filter(lambda x: not x % 2, range(1, 10))  # Se obtienen los elementos pares.\n",
    "\n",
    "filtrado"
   ]
  },
  {
   "cell_type": "markdown",
   "id": "structural-murder",
   "metadata": {},
   "source": [
    "Se obtiene un objeto `filter`, el cual es un **generador**:"
   ]
  },
  {
   "cell_type": "code",
   "execution_count": 15,
   "id": "greenhouse-gallery",
   "metadata": {},
   "outputs": [],
   "source": [
    "for item in filtrado:\n",
    "    print(item)"
   ]
  },
  {
   "cell_type": "markdown",
   "id": "efficient-concrete",
   "metadata": {},
   "source": [
    "- `map`. Aplica la misma **función** a todos los elementos de un **iterable** y añade el resultado a un nuevo **iterable**."
   ]
  },
  {
   "cell_type": "code",
   "execution_count": 50,
   "id": "racial-curtis",
   "metadata": {},
   "outputs": [
    {
     "data": {
      "text/plain": [
       "<map at 0x7fb61450ebe0>"
      ]
     },
     "execution_count": 50,
     "metadata": {},
     "output_type": "execute_result"
    }
   ],
   "source": [
    "transformacion = map(lambda x: x * 2, range(1, 10))\n",
    "\n",
    "transformacion"
   ]
  },
  {
   "cell_type": "markdown",
   "id": "foster-abortion",
   "metadata": {},
   "source": [
    "Efectivamente, con `map` también se obtiene un **generador**:"
   ]
  },
  {
   "cell_type": "code",
   "execution_count": 52,
   "id": "otherwise-appliance",
   "metadata": {},
   "outputs": [
    {
     "name": "stdout",
     "output_type": "stream",
     "text": [
      "2\n",
      "4\n",
      "6\n",
      "8\n",
      "10\n",
      "12\n",
      "14\n",
      "16\n",
      "18\n"
     ]
    }
   ],
   "source": [
    "for item in transformacion:\n",
    "    print(item)"
   ]
  },
  {
   "cell_type": "markdown",
   "id": "expanded-disease",
   "metadata": {},
   "source": [
    "**Ahora todo junto**:"
   ]
  },
  {
   "cell_type": "code",
   "execution_count": 61,
   "id": "advance-statement",
   "metadata": {},
   "outputs": [
    {
     "data": {
      "text/plain": [
       "[2, 4, 6, 8, 10, 12, 14, 16, 18, 20, 22, 24, 26, 28, 30]"
      ]
     },
     "execution_count": 61,
     "metadata": {},
     "output_type": "execute_result"
    }
   ],
   "source": [
    "from itertools import chain\n",
    "\n",
    "diccionario_de_prueba = {\n",
    "    \"lista_1\": range(1, 11),\n",
    "    \"lista_2\": range(11, 21),\n",
    "    \"lista_3\": range(21, 31)\n",
    "}\n",
    "\n",
    "\n",
    "# Obtención de una lista de pares a partir de un diccionario que contiene listas de números:\n",
    "list(filter(lambda x: not x % 2, reduce(chain, map(lambda x: diccionario_de_prueba[x], diccionario_de_prueba))))\n"
   ]
  },
  {
   "cell_type": "markdown",
   "id": "passing-contributor",
   "metadata": {},
   "source": [
    "- En primer lugar, se obtienen los **iterables** a partir del diccionario con `map`.\n",
    "- Después, se obtiene un **iterable** único aplicando la **función** [`chain`](https://docs.python.org/3/library/itertools.html#itertools.chain) a `reduce`.\n",
    "- Por último, se filtran los valores obtenidos del **iterable** anterior con `filter`."
   ]
  },
  {
   "cell_type": "markdown",
   "id": "smooth-union",
   "metadata": {},
   "source": [
    "## Ejercicios\n",
    "\n",
    "1. Crea un archivo nuevo llamado `funcional_demo.py` e importa la función `obtener_noticias` de `scrapper.py`.\n",
    "\n",
    "2. Llama a esa función sin parámetros y almacena esa lista en una nueva variable.\n",
    "\n",
    "3. Obten las categorías sin repetir utilizando **map**.\n",
    "\n",
    "4. **Reto**: Obten los títulos de las noticias agrupados por autor usando **map** y **reduce**.\n",
    "\n",
    "- Pista: Define aparte la función que recibirá como parámetro `reduce`."
   ]
  }
 ],
 "metadata": {
  "kernelspec": {
   "display_name": "Python 3",
   "language": "python",
   "name": "python3"
  },
  "language_info": {
   "codemirror_mode": {
    "name": "ipython",
    "version": 3
   },
   "file_extension": ".py",
   "mimetype": "text/x-python",
   "name": "python",
   "nbconvert_exporter": "python",
   "pygments_lexer": "ipython3",
   "version": "3.8.8"
  }
 },
 "nbformat": 4,
 "nbformat_minor": 5
}
