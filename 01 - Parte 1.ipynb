{
 "metadata": {
  "language_info": {
   "codemirror_mode": {
    "name": "ipython",
    "version": 3
   },
   "file_extension": ".py",
   "mimetype": "text/x-python",
   "name": "python",
   "nbconvert_exporter": "python",
   "pygments_lexer": "ipython3",
   "version": "3.9.0-final"
  },
  "orig_nbformat": 2,
  "kernelspec": {
   "name": "python3",
   "display_name": "Python 3.9.0 64-bit",
   "metadata": {
    "interpreter": {
     "hash": "7812ea015bdcee6f23a998adcdd2ef97c151c0c241b7b7070987d9313e41299d"
    }
   }
  }
 },
 "nbformat": 4,
 "nbformat_minor": 2,
 "cells": [
  {
   "cell_type": "code",
   "execution_count": null,
   "metadata": {},
   "outputs": [],
   "source": [
    "\"\"\"\n",
    "Ejercicio 1:\n",
    "1) Rellenar la cadena del abecedario con el símbolo # hasta completar 30 caracteres.\n",
    "2) Mirar la longitud de la cadena abecedario.\n",
    "3) Poner en mayúsculas y en minúsculas la cadena.\n",
    "4) Buscar en la cadena abecedario la letra R y saber su posicion\n",
    "5) Crea otra cadena con las 5 letras que van después de la n\n",
    "6) Reemplazar la letra Z por Hola.\n",
    "7) Obtener una lista de la cadena abecedario y separarla por la letra i\n",
    "8) Unir la lista anterior con el símbolo “-” usando ‘-’.join(lista).\n",
    "\"\"\""
   ]
  },
  {
   "cell_type": "code",
   "execution_count": null,
   "metadata": {},
   "outputs": [],
   "source": [
    "import string\n",
    "abc = string.ascii_lowercase\n",
    "#print(abc)\n",
    "#print(abc[5-1]) #contando desde 0, este es el quinto\n",
    "#print(abc[-2]) #este es el penultimo\n",
    "\n",
    "# 1\n",
    "abc.center(30, '#')\n",
    "\n",
    "# 2\n",
    "len(abc)\n",
    "\n",
    "# 3\n",
    "abc.upper()\n",
    "abc.lower()\n",
    "\n",
    "# 4\n",
    "abc.find('r')\n",
    "\n",
    "# 5\n",
    "abc[abc.find('n')+1:abc.find('n')+6]\n",
    "\n",
    "# 6\n",
    "abc.replace('z','hola')\n",
    "\n",
    "# 7\n",
    "abc.split('i')\n",
    "\n",
    "# 8\n",
    "\"-\".join(abc.split('i'))"
   ]
  },
  {
   "source": [
    "\"\"\"\n",
    "Ejercicio 2:\n",
    "1) Crear una lista con los meses del año\n",
    "2) Selecciona el mes noveno, y el penúltimo\n",
    "3) Crea una lista con los meses de verano (septimo a noveno)\n",
    "4) Crea una lista con los meses de verano en orden inverso\n",
    "\"\"\""
   ],
   "cell_type": "code",
   "metadata": {},
   "execution_count": null,
   "outputs": []
  },
  {
   "cell_type": "code",
   "execution_count": null,
   "metadata": {},
   "outputs": [],
   "source": [
    "# Solving Ejercicio 2\n",
    "# 1\n",
    "meses = ['enero', 'febrero', 'marzo', 'abril', 'mayo', 'junio', 'julio', 'agosto', 'septiembre', 'octubre', 'noviembre', 'diciembre']\n",
    "\n",
    "# 2\n",
    "meses[8]\n",
    "meses[-2]\n",
    "\n",
    "# 3\n",
    "meses[6:9]\n",
    "\n",
    "# 4\n",
    "meses[8:5:-1]"
   ]
  },
  {
   "cell_type": "code",
   "execution_count": null,
   "metadata": {},
   "outputs": [],
   "source": [
    "\"\"\"\n",
    "Ejercicio 3:\n",
    "1) Crear una tupla con los meses del año\n",
    "2) Selecciona el mes noveno, y el penúltimo\n",
    "3) Selecciona todos los meses después de Agosto (no incluido)\n",
    "\"\"\"\n"
   ]
  },
  {
   "cell_type": "code",
   "execution_count": null,
   "metadata": {},
   "outputs": [],
   "source": [
    "# Solving Ejercicio 3\n",
    "# 1\n",
    "mesesTupla = ('enero', 'febrero', 'marzo', 'abril', 'mayo', 'junio', 'julio', 'agosto', 'septiembre', 'octubre', 'noviembre', 'diciembre')\n",
    "\n",
    "# 2\n",
    "mesesTupla[8]\n",
    "mesesTupla[-2]\n",
    "\n",
    "# 3\n",
    "mesesTupla[8:]\n",
    "\n",
    "# Additional, NamedTuples\n",
    "from collections import namedtuple\n",
    "Points = namedtuple('Puntos',['x','y'])\n",
    "instancia_p = Points('g',y=22)\n",
    "instancia_p\n"
   ]
  },
  {
   "cell_type": "code",
   "execution_count": null,
   "metadata": {},
   "outputs": [],
   "source": [
    "\"\"\"\n",
    "Ejercicio 4:\n",
    "1) Crea un diccionario con todos los meses del año, donde la key sea el mes y el valor los días del mes.\n",
    "2) Mostrar los días que tiene el mes de Marzo\n",
    "3) Crea una tupla con los keys del diccionario que se ha creado.\n",
    "4) Crea una tupla con los values del diccionario que se ha creado.\n",
    "5) Calcula el tamaño del diccionario\n",
    "6) Borrar del diccionario los meses de Julio y Agosto\n",
    "7) Recorrer el diccionario y mostrar por pantalla mes con los días del mes.\n",
    "\"\"\"\n"
   ]
  },
  {
   "cell_type": "code",
   "execution_count": null,
   "metadata": {},
   "outputs": [],
   "source": [
    "# Solving Ejercicio 4\n",
    "# 1\n",
    "mes = {'enero':31, 'febrero':28, 'marzo':31, 'abril':30, 'mayo':31, 'junio':30, 'julio':30, 'agosto':31, 'septiembre':30, 'octubre':31, 'noviembre':30, 'diciembre':31}\n",
    "\n",
    "# 2\n",
    "mes['marzo']\n",
    "\n",
    "# 3\n",
    "mesTupla = mes.keys()\n",
    "\n",
    "# 4\n",
    "mesTupla = mes.values()\n",
    "\n",
    "# 5\n",
    "len(mes)\n",
    "\n",
    "# 6\n",
    "del mes['julio']\n",
    "del mes['agosto']\n",
    "mes\n",
    "\n",
    "#7\n",
    "for nombre_mes, cantidad_dias in mes.items():\n",
    "    print(f\"{nombre_mes} : {cantidad_dias}\")\n",
    "\n",
    "for nombre_mes, cantidad_dias in mes.items():\n",
    "    print(nombre_mes, \":\",cantidad_dias)"
   ]
  },
  {
   "cell_type": "code",
   "execution_count": null,
   "metadata": {},
   "outputs": [],
   "source": [
    "\"\"\"\n",
    "Ejercicio 5: Condicional\n",
    "Dependiendo del valor que se le asigne a una variable llamada mes nos tendrá que dar el número de días que tiene ese mes en otra variable llamada num_dias.\n",
    "\"\"\"\n"
   ]
  },
  {
   "cell_type": "code",
   "execution_count": null,
   "metadata": {},
   "outputs": [],
   "source": [
    "# Solving Ejercicio 5\n",
    "# 1\n",
    "\n",
    "variable_mes = 'agosto'\n",
    "num_dias = 0\n",
    "if variable_mes in ('enero', 'marzo', 'mayo', 'agosto', 'octubre', 'diciembre'):\n",
    "    num_dias = 31\n",
    "elif variable_mes in ('abril', 'junio', 'julio', 'septiembre', 'noviembre'):\n",
    "    num_dias = 30\n",
    "else:\n",
    "    num:dias = 28\n",
    "print(num_dias)"
   ]
  },
  {
   "cell_type": "code",
   "execution_count": null,
   "metadata": {},
   "outputs": [],
   "source": [
    "\"\"\"\n",
    "Ejercicio: Funciones\n",
    "1) Crear una función que calcule el número de días de un mes ( ejercicio anterior).\n",
    "2) Crear una función que reciba un argumento, y si se trata de un cadena retorne “Es un string: nombre”. Si el argumento es erróneo debe devolver “Error”\n",
    "3) Crea una función que reciba un número y devuelva el mes en esa posición\n",
    "\"\"\""
   ]
  },
  {
   "cell_type": "code",
   "execution_count": null,
   "metadata": {},
   "outputs": [],
   "source": [
    "# Solving Ejercicio 6\n",
    "# 1\n",
    "def num_dias(variable_mes):\n",
    "    num_dias = 0\n",
    "    if variable_mes in ('enero', 'marzo', 'mayo', 'agosto', 'octubre', 'diciembre'):\n",
    "        num_dias = 31\n",
    "    elif variable_mes in ('abril', 'junio', 'julio', 'septiembre', 'noviembre'):\n",
    "        num_dias = 30\n",
    "    else:\n",
    "        num:dias = 28\n",
    "    return num_dias\n",
    "\n",
    "num_dias('enero')\n",
    "\n",
    "# 2\n",
    "def verificador(arg):\n",
    "    if type(arg) == str:\n",
    "        print('Es un string')\n",
    "    else:\n",
    "        print('Error')\n",
    "\n",
    "verificador('hola')\n",
    "\n",
    "# 3\n",
    "mesArr = ['enero', 'febrero', 'marzo', 'abril', 'mayo', 'junio', 'julio', 'agosto', 'septiembre', 'octubre', 'noviembre', 'diciembre']\n",
    "\n",
    "def pos_mes(pos):\n",
    "    return mesArr[pos]\n",
    "\n",
    "pos_mes(1)\n",
    "\n",
    "#Additional, list comprehension\n",
    "def mi_funcion(arg1, arg2, arg3):\n",
    "    return arg1 + arg2 + arg3\n",
    "\n",
    "mi_lista = [\n",
    "    1,\n",
    "    2,\n",
    "    3\n",
    "    ]\n",
    "mi_funcion(*mi_lista) # *mi_lista send all elements to argument\n",
    "\n",
    "mi_diccionario = {\n",
    "    'mes': 'marzo',\n",
    "    'dias': 3\n",
    "}\n",
    "\n",
    "def mi_otra_funcion(mes='', dias=20):\n",
    "    return mes * dias\n",
    "\n",
    "mi_otra_funcion(**mi_diccionario)"
   ]
  },
  {
   "cell_type": "code",
   "execution_count": null,
   "metadata": {},
   "outputs": [],
   "source": [
    "\"\"\"\n",
    "Ejercicio: Bucle foor\n",
    "1) Crea una función que devuelva una lista con los números múltiplos de 3 entre el 0 y el 90.\n",
    "2) Crea una función que recorra los meses y devuelva aquellos que contienen una letra ‘E’.\n",
    "\"\"\"\n",
    "\n"
   ]
  },
  {
   "cell_type": "code",
   "execution_count": null,
   "metadata": {},
   "outputs": [],
   "source": [
    "# Solving Ejercicio 7\n",
    "# 1\n",
    "\n",
    "lista = []\n",
    "for i in range(1,91,1):\n",
    "    if i%3 == 0:\n",
    "        lista.append(i)\n",
    "print(lista)\n",
    "\n",
    "# 2\n",
    "mesArr = ['enero', 'febrero', 'marzo', 'abril', 'mayo', 'junio', 'julio', 'agosto', 'septiembre', 'octubre', 'noviembre', 'diciembre']\n",
    "\n",
    "def e_meses(mesArr):\n",
    "    list = []\n",
    "    for mes in mesArr:\n",
    "        if 'e' in mes:\n",
    "            list.append(mes)\n",
    "    return list\n",
    "\n",
    "print(e_meses(mesArr))\n"
   ]
  },
  {
   "cell_type": "code",
   "execution_count": null,
   "metadata": {},
   "outputs": [],
   "source": [
    "\"\"\"\n",
    "Ejercicio: Bucle for + diccionario\n",
    "\n",
    "A partir de una lista de tuplas con el siguiente formato:\n",
    "\n",
    "nombres = [ (Alvaro, Salamanca),   (Mario, Madrid),   (Marta, Salamanca),   (Juan, Avila),   \n",
    "(Pedro, Madrid),   (Susana, Soria),   (Martin, Valladolid),   (Mario, Valladolid),   (Jorge, Palencia) ]\n",
    "\n",
    "Crea un programa que genere un diccionario de ciudades, y que para cada ciudad almacene los nombres de las distintas personas asociadas a esa ciudad\n",
    "\"\"\"\n"
   ]
  },
  {
   "cell_type": "code",
   "execution_count": null,
   "metadata": {},
   "outputs": [],
   "source": [
    "# Solving Ejercicio 8\n",
    "# 1\n",
    "\n",
    "nombres = [ ('Alvaro', 'Salamanca'),   ('Mario', 'Madrid'),   ('Marta', 'Salamanca'),   ('Juan', 'Avila'),   \n",
    "('Pedro', 'Madrid'),   ('Susana', 'Soria'),   ('Martin', 'Valladolid'),   ('Mario', 'Valladolid'),   ('Jorge', 'Palencia') ]\n",
    "\n",
    "ciudades = {}\n",
    "\n",
    "for nombre, ciudad in nombres:\n",
    "    if ciudad not in ciudades:\n",
    "        ciudades[ciudad]= nombre\n",
    "    else:\n",
    "        lista2 = []\n",
    "        lista2.append(ciudades[ciudad])\n",
    "        lista2.append(nombre)\n",
    "        ciudades[ciudad] = lista2\n",
    "\n",
    "ciudades\n",
    "\n",
    "# version 2\n",
    "from collections import defaultdict\n",
    "\n",
    "d = defaultdict(list)\n",
    "for nombre, ciudad in nombres:\n",
    "    d[ciudad].append(nombre)\n",
    "\n",
    "print(d)\n"
   ]
  },
  {
   "cell_type": "code",
   "execution_count": null,
   "metadata": {},
   "outputs": [],
   "source": [
    "\"\"\"\n",
    "Ejercicio: While\n",
    "Crea una función que devuelva una lista con los números múltiplos de 3 entre el 0 y el 90 utilizando un bucle while.\n",
    "\"\"\""
   ]
  },
  {
   "cell_type": "code",
   "execution_count": null,
   "metadata": {},
   "outputs": [],
   "source": [
    "# Solving Ejercicio 9\n",
    "# 1\n",
    "\n",
    "def uso_while(mult):\n",
    "    lista = []\n",
    "    i = 0\n",
    "    while i<90:\n",
    "        if i%mult == 0:\n",
    "            lista.append(i)\n",
    "        i+=1\n",
    "    return lista\n",
    "\n",
    "print(uso_while(3))"
   ]
  },
  {
   "cell_type": "code",
   "execution_count": null,
   "metadata": {},
   "outputs": [],
   "source": [
    "\"\"\"\n",
    "Ejercicio: \n",
    "Dado el archivo quijote.txt\n",
    "\n",
    "Leer el contenido del fichero\n",
    "Imprimir por pantalla la palabra más usada\n",
    "\"\"\""
   ]
  },
  {
   "cell_type": "code",
   "execution_count": 126,
   "metadata": {},
   "outputs": [
    {
     "output_type": "stream",
     "name": "stdout",
     "text": [
      "Counter({'de': 21, 'que': 10, 'los': 9, 'y': 7, 'la': 6, 'en': 5, 'un': 4, 'no': 4, 'se': 4, 'más': 3, 'las': 3, 'su': 3, 'con': 3, 'hidalgo': 2, 'rocín': 2, 'lo': 2, 'una': 2, 'a': 2, 'el': 2, 'nuestro': 2, 'esto': 2, 'En': 1, 'lugar': 1, 'Mancha,': 1, 'cuyo': 1, 'nombre': 1, 'quiero': 1, 'acordarme,': 1, 'ha': 1, 'mucho': 1, 'tiempo': 1, 'vivía': 1, 'lanza': 1, 'astillero,': 1, 'adarga': 1, 'antigua,': 1, 'flaco': 1, 'galgo': 1, 'corredor.': 1, 'Una': 1, 'olla': 1, 'algo': 1, 'vaca': 1, 'carnero,': 1, 'salpicón': 1, 'noches,': 1, 'duelos': 1, 'quebrantos': 1, 'sábados,': 1, 'lantejas': 1, 'viernes,': 1, 'algún': 1, 'palomino': 1, 'añadidura': 1, 'domingos,': 1, 'consumían': 1, 'tres': 1, 'partes': 1, 'hacienda.': 1, 'El': 1, 'resto': 1, 'della': 1, 'concluían': 1, 'sayo': 1, 'velarte,': 1, 'calzas': 1, 'velludo': 1, 'para': 1, 'fiestas,': 1, 'sus': 1, 'pantuflos': 1, 'mesmo,': 1, 'días': 1, 'entresemana': 1, 'honraba': 1, 'vellorí': 1, 'fino.': 1, 'Tenía': 1, 'casa': 1, 'ama': 1, 'pasaba': 1, 'cuarenta,': 1, 'sobrina': 1, 'llegaba': 1, 'veinte,': 1, 'mozo': 1, 'campo': 1, 'plaza,': 1, 'así': 1, 'ensillaba': 1, 'como': 1, 'tomaba': 1, 'podadera.': 1, 'Frisaba': 1, 'edad': 1, 'cincuenta': 1, 'años;': 1, 'era': 1, 'complexión': 1, 'recia,': 1, 'seco': 1, 'carnes,': 1, 'enjuto': 1, 'rostro,': 1, 'gran': 1, 'madrugador': 1, 'amigo': 1, 'caza.': 1, 'Quieren': 1, 'decir': 1, 'tenía': 1, 'sobrenombre': 1, 'Quijada,': 1, 'o': 1, 'Quesada,': 1, 'hay': 1, 'alguna': 1, 'diferencia': 1, 'autores': 1, 'deste': 1, 'caso': 1, 'escriben;': 1, 'aunque,': 1, 'por': 1, 'conjeturas': 1, 'verosímiles,': 1, 'deja': 1, 'entender': 1, 'llamaba': 1, 'Quejana.': 1, 'Pero': 1, 'importa': 1, 'poco': 1, 'cuento;': 1, 'basta': 1, 'narración': 1, 'dél': 1, 'salga': 1, 'punto': 1, 'verdad.': 1})\n"
     ]
    }
   ],
   "source": [
    "# Solving Ejercicio 10\n",
    "# 1\n",
    "\n",
    "#version 1\n",
    "from collections import defaultdict\n",
    "\n",
    "with open('quijote.txt','r') as f:\n",
    "    lines = f.readlines()\n",
    "\n",
    "texto = \" \".join(lines)\n",
    "palabras = texto.split()\n",
    "\n",
    "d = defaultdict(int)\n",
    "for palabra in palabras:\n",
    "    d[palabra] += 1\n",
    "\n",
    "dict(sorted(d.items(), key=lambda item: item[1]))\n",
    "\n",
    "#version 2\n",
    "from collections import Counter\n",
    "c = Counter(palabras)\n",
    "c.most_common()\n",
    "print(c)"
   ]
  },
  {
   "cell_type": "code",
   "execution_count": null,
   "metadata": {},
   "outputs": [],
   "source": []
  }
 ]
}