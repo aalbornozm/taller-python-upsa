{
 "cells": [
  {
   "cell_type": "markdown",
   "id": "sized-rebel",
   "metadata": {},
   "source": [
    "# Serialización"
   ]
  },
  {
   "cell_type": "markdown",
   "id": "forbidden-genealogy",
   "metadata": {},
   "source": [
    "## Introducción\n",
    "\n",
    "El concepto de **serialización** es la transformación de datos a un formato exportable que se puede almacenar para recuperar posteriormente o para compartir entre distintos programas.\n",
    "\n",
    "La información se puede **serializar** en texto plano, que son legibles como archivos de texto, o en archivos binarios que son codificados y solamente legibles por software que entiende dicha codificación. \n",
    "\n",
    "Además, atendiendo a la estructura de datos, se puede almacenar información en dos tipos de estructuras, **planas** o **anidadas**:\n",
    "\n",
    "- **Estructura plana**: cada objeto se representa en una línea, similar a una **lista** o una **tupla**.\n",
    "- **Estructura anidada**: cada objeto se representa como clave/valor, similar a los diccionarios.\n"
   ]
  },
  {
   "cell_type": "markdown",
   "id": "single-function",
   "metadata": {},
   "source": [
    "## Como texto plano"
   ]
  },
  {
   "cell_type": "markdown",
   "id": "faced-safety",
   "metadata": {},
   "source": [
    "### CSV\n",
    "\n",
    "El formato **csv** (*comma-separated values*) es el formato de **estructura plana** más común de serialización de **estructura plana**. Cada valor se representa en una misma línea, separados por coma. El punto débil de este formato es que no es un formato estandarizado, es decir, no atiende al formato de los campos que se representan en él. Las **cadenas de texto**, por ejemplo, no tienen porque venir delimitadas por comillas."
   ]
  },
  {
   "cell_type": "markdown",
   "id": "desirable-batch",
   "metadata": {},
   "source": [
    "### JSON\n",
    "\n",
    "**JSON** (*JavaScript Object Notation*) es de los formatos mas comunes para intercambio de datos en internet, y el formato mas extendido en [API REST](https://www.redhat.com/es/topics/api/what-is-a-rest-api). Se trata de un formato clave-valor, por tanto **estructura anidada**, y es idéntico a los **diccionarios** en **python**. En este formato si se especifican tipos de datos, se pueden representar **números**, **cadenas de texto**, **booleanos**, **valor nulo**, **listas** y otros **diccionarios**."
   ]
  },
  {
   "cell_type": "markdown",
   "id": "offshore-efficiency",
   "metadata": {},
   "source": [
    "### YAML\n",
    "\n",
    "Es un formato idéntico a **JSON** pero su uso está mas popularizado en **archivos de configuración** de aplicaciones, como por ejemplo [Docker Compose](https://docs.docker.com/compose/). La principal diferencia es que **YAML** delimita los diferentes niveles con **identación** en lugar de utilizando llaves, pero puede reperesentar también **números**, **cadenas de texto**, **booleanos**, **valor nulo**, **listas** y otros **diccionarios**. También se trata de una **estructura anidada**."
   ]
  },
  {
   "cell_type": "markdown",
   "id": "regulated-acting",
   "metadata": {},
   "source": [
    "## Como archivos binarios"
   ]
  },
  {
   "cell_type": "markdown",
   "id": "promising-brown",
   "metadata": {},
   "source": [
    "### Pickle\n",
    "\n",
    "Es un formato binario propio de **python** y se puede utilizar para persistir datos en este lenguaje, pero no se recomienda para intercambio de datos entre diferentes lenguajes.\n",
    "\n",
    "Es también una **estructura anidada** y permite representar **números**, **cadenas de texto**, **booleanos**, **valor nulo**, **listas**, **tuplas**, **sets** y otros **diccionarios**."
   ]
  }
 ],
 "metadata": {
  "kernelspec": {
   "display_name": "Python 3",
   "language": "python",
   "name": "python3"
  },
  "language_info": {
   "codemirror_mode": {
    "name": "ipython",
    "version": 3
   },
   "file_extension": ".py",
   "mimetype": "text/x-python",
   "name": "python",
   "nbconvert_exporter": "python",
   "pygments_lexer": "ipython3",
   "version": "3.8.6"
  }
 },
 "nbformat": 4,
 "nbformat_minor": 5
}
