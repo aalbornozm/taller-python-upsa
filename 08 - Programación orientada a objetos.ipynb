{
 "cells": [
  {
   "cell_type": "markdown",
   "id": "behind-married",
   "metadata": {},
   "source": [
    "# Programación Orientada a Objetos\n",
    "\n",
    "## Introducción\n",
    "\n",
    "La **Programación Orientada a Objetos** es una forma de estructurar el código definiendo un *molde*, lo que a partir de ahora llamaremos **clase**, la cual nos permitirá fabricar **objetos** idénticos en estructura y comportamiento, pero que diferirán en sus propiedades.\n",
    "\n",
    "Como si quisieramos hacer varias figuritas de diferentes colores a partir de un molde, todas serían idénticas salvo por el color, es decir, su **propiedad** color sería diferente:"
   ]
  },
  {
   "cell_type": "code",
   "execution_count": 9,
   "id": "accurate-island",
   "metadata": {},
   "outputs": [
    {
     "name": "stdout",
     "output_type": "stream",
     "text": [
      "El color de figura_verde es verde\n",
      "Ahora el color de figura_verde es azul\n",
      "El método es: <bound method Figura.pintar of <__main__.Figura object at 0x000001FB62F26340>>\n",
      "<class '__main__.Figura'>\n",
      "hola Pablo\n"
     ]
    },
    {
     "data": {
      "text/plain": [
       "<function __main__.Figura.pintar(self, color)>"
      ]
     },
     "execution_count": 9,
     "metadata": {},
     "output_type": "execute_result"
    }
   ],
   "source": [
    "class Figura:\n",
    "    color=\"\"\n",
    "    \n",
    "    def __init__(self, color):\n",
    "        self.color = color\n",
    "    \n",
    "    def pintar(self, color):\n",
    "        if not isinstance(color, str):\n",
    "            raise TypeError(\"Esperamos una cadena\")\n",
    "        self.color = color\n",
    "        \n",
    "    @classmethod\n",
    "    def saludo(cls, atributo):\n",
    "        print(cls)\n",
    "        print(f\"hola {atributo}\")\n",
    "        \n",
    "figura_verde = Figura(color=\"verde\")\n",
    "\n",
    "print(f\"El color de figura_verde es {figura_verde.color}\")\n",
    "\n",
    "figura_verde.pintar(color=\"azul\")\n",
    "\n",
    "print(f\"Ahora el color de figura_verde es {figura_verde.color}\")\n",
    "\n",
    "print(f\"El método es: {figura_verde.pintar}\")\n",
    "\n",
    "\n",
    "Figura.saludo(\"Pablo\")\n",
    "Figura.pintar"
   ]
  },
  {
   "cell_type": "markdown",
   "id": "breathing-might",
   "metadata": {},
   "source": [
    "Hay varias cosas a tener en cuenta en el ejemplo anterior:\n",
    "1. Una clase se define con la palabra reservada **class**.\n",
    "2. Las propiedades se definen como variables dentro de la clase.\n",
    "3. Para acceder a una propiedad de un **objeto**, se utiliza `.`, es decir `figura.color`\n",
    "4. La **clase** `Figura` dispone de un **método** llamado `pintar`. Un **método** es una función que todos los objetos de una clase pueden ejecutar. Se definen como una función normal añadiendo `self` como primer argumento. `self` es, en realidad, el propio objeto, por lo que `self.color` sería lo mismo que `figura_verde.color`. Permite el acceso a todos las **propiedades** de un **objeto** y permite manipularlas.\n",
    "5. ¿Que es **\\_\\_init\\_\\_(self):**?\n",
    "    * Toda clase en **python** (y en cualquier otro lenguaje) dispone de un **método** especial que permite crear objetos de esa clase. Ese **método** recibe el nombre de **constructor**. No es necesario implementarlo salvo que se necesite dotar al objeto con unas propiedades específicas. En este caso, forzamos el **parámetro** color, por lo que una figura no podrá crearse sin indicarle un color:\n"
   ]
  },
  {
   "cell_type": "code",
   "execution_count": 7,
   "id": "hungarian-division",
   "metadata": {
    "scrolled": true
   },
   "outputs": [
    {
     "ename": "TypeError",
     "evalue": "__init__() missing 1 required positional argument: 'color'",
     "output_type": "error",
     "traceback": [
      "\u001b[1;31m---------------------------------------------------------------------------\u001b[0m",
      "\u001b[1;31mTypeError\u001b[0m                                 Traceback (most recent call last)",
      "\u001b[1;32m<ipython-input-7-a147061bae14>\u001b[0m in \u001b[0;36m<module>\u001b[1;34m\u001b[0m\n\u001b[1;32m----> 1\u001b[1;33m \u001b[0mfigura\u001b[0m \u001b[1;33m=\u001b[0m \u001b[0mFigura\u001b[0m\u001b[1;33m(\u001b[0m\u001b[1;33m)\u001b[0m\u001b[1;33m\u001b[0m\u001b[1;33m\u001b[0m\u001b[0m\n\u001b[0m",
      "\u001b[1;31mTypeError\u001b[0m: __init__() missing 1 required positional argument: 'color'"
     ]
    }
   ],
   "source": [
    "figura = Figura()"
   ]
  },
  {
   "cell_type": "markdown",
   "id": "fuzzy-ideal",
   "metadata": {},
   "source": [
    "**Python** devuelve un error `TypeError` indicando que requiere un argumento (o parámetro) posicional porque no hemos pasado el `color` de la `Figura`."
   ]
  },
  {
   "cell_type": "markdown",
   "id": "advanced-coalition",
   "metadata": {},
   "source": [
    "## Herencia"
   ]
  },
  {
   "cell_type": "markdown",
   "id": "split-minister",
   "metadata": {},
   "source": [
    "En **programación orientada a objetos** se denomina **herencia** a la extensión de la funcionalidad de una clase ya implementada sin necesidad de reescribir código.\n",
    "\n",
    "Siguiendo con el ejemplo anterior, en lugar de un concepto tan abstracto como lo es figura, vamos a tener dos clases más específicas, `Piramide` y `Cubo`, sin aplicar el concepto de **herencia**:"
   ]
  },
  {
   "cell_type": "code",
   "execution_count": 13,
   "id": "alert-fighter",
   "metadata": {},
   "outputs": [],
   "source": [
    "class Piramide:\n",
    "    color=\"\"\n",
    "    caras=4\n",
    "    \n",
    "    def __init__(self, color, caras):\n",
    "        self.color = color\n",
    "        self.caras = caras\n",
    "    \n",
    "    def pintar(self, color):\n",
    "        self.color = color\n",
    "        \n",
    "class Cubo:\n",
    "    color=\"\"\n",
    "    caras=6\n",
    "    \n",
    "    def __init__(self, color):\n",
    "        self.color = color\n",
    "    \n",
    "    def pintar(self, color):\n",
    "        self.color = color"
   ]
  },
  {
   "cell_type": "markdown",
   "id": "precious-membership",
   "metadata": {},
   "source": [
    "Como se ve en el ejemplo, tanto `Piramide` como `Cubo` implementan el **método** pintar de forma idéntica, solamente varían en que una `Piramide` se puede construir con diferente número de caras.\n",
    "\n",
    "Partiendo de que ya tenemos `Figura`, podemos resolver lo mismo así:"
   ]
  },
  {
   "cell_type": "code",
   "execution_count": 11,
   "id": "committed-static",
   "metadata": {},
   "outputs": [],
   "source": [
    "class Piramide(Figura):\n",
    "    caras=4\n",
    "    \n",
    "    def __init__(self, color, caras):\n",
    "        super().__init__(color)\n",
    "        self.caras = caras\n",
    "        \n",
    "class Cubo(Figura):\n",
    "    caras=6\n"
   ]
  },
  {
   "cell_type": "markdown",
   "id": "veterinary-coaching",
   "metadata": {},
   "source": [
    "Aunque sea un ejemplo sencillo, sirve para ilustrar como funciona el concepto de **herencia**:\n",
    "    - Una **clase** puede añadir funcionalidad a otra utilizándola como base. La **clase** resultante tendrá todos los métodos y atributos de la **clase base**.\n",
    "    - Además, todos los **objetos** que se creen de las clases resultantes, seguirán siendo considerados de la **clase base**.\n",
    "    \n",
    "**Python** proporciona una función para comprobar si un objeto pertenece a una **clase** o no. Esta función es `isinstance(obj, cls)`. Recibe como parámetro el **objeto** que se quiere comprobar y una **clase** y devuelve `True` si ese **objeto** es una **instancia** de esa **clase** o `False` si no:"
   ]
  },
  {
   "cell_type": "code",
   "execution_count": 14,
   "id": "subjective-confidence",
   "metadata": {},
   "outputs": [
    {
     "name": "stdout",
     "output_type": "stream",
     "text": [
      "True\n",
      "False\n",
      "False\n"
     ]
    }
   ],
   "source": [
    "cubo = Cubo(color=\"Verde\")\n",
    "\n",
    "print(isinstance(cubo, Cubo))  # Será True\n",
    "print(isinstance(cubo, Figura))  # Será True\n",
    "print(isinstance(cubo, Piramide)) # Será False\n"
   ]
  },
  {
   "cell_type": "markdown",
   "id": "prime-lesson",
   "metadata": {},
   "source": [
    "Este concepto, que un **objeto** de una **clase** que ha **heredado** de otra siga siendo considerado como un **objeto** de la **clase base** se conoce como **polimorfismo**.\n",
    "\n",
    "Para tenerlo en cuenta, cuando se utilicen **bibliotecas** externas con **funciones** o **métodos** que acepten como **parámetro** **objetos** de una **clase** en concreto, estos pueden ser **instanciados por esa clase** o por una **clase** modificada que tenga como **clase base** la **clase** que solicitan en dicho **objeto**:"
   ]
  },
  {
   "cell_type": "code",
   "execution_count": 15,
   "id": "extra-polls",
   "metadata": {},
   "outputs": [
    {
     "name": "stdout",
     "output_type": "stream",
     "text": [
      "Blanco\n"
     ]
    }
   ],
   "source": [
    "def pintar_figuras(figuras, color):\n",
    "    [figura.pintar(color=color) for figura in figuras]  # Uso comprensión de listas solo para llamar un método, mutando el contenido de la lista original\n",
    "\n",
    "cubo = Cubo(color=\"Azul\")\n",
    "piramide = Piramide(color=\"Naranja\", caras=6)\n",
    "figura = Figura(color=\"Verde\")\n",
    "\n",
    "pintar_figuras([cubo, piramide, figura], \"Blanco\")\n",
    "\n",
    "print(cubo.color)"
   ]
  },
  {
   "cell_type": "markdown",
   "id": "requested-colonial",
   "metadata": {},
   "source": [
    "## Composición"
   ]
  },
  {
   "cell_type": "markdown",
   "id": "satellite-sending",
   "metadata": {},
   "source": [
    "Aparte de la **herencia**, otra forma de reutilizar código es la **composición**, que no es mas que utilizar **objetos** de otra **clase** dentro de la nueva **clase**."
   ]
  },
  {
   "cell_type": "markdown",
   "id": "developed-overhead",
   "metadata": {},
   "source": [
    "## Programación Orientada a Objetos en Python\n",
    "\n",
    "La **programación orientada a objetos** tiene algunas particularidades en **Python** que está bien conocer porque en algún momento pueden resultar de utilidad."
   ]
  },
  {
   "cell_type": "markdown",
   "id": "expired-punishment",
   "metadata": {},
   "source": [
    "### Métodos mágicos\n",
    "\n",
    "Por el simple hecho de ser un **objeto** en **Python**, el propio intérprete del lenguaje ya les otorga una serie de métodos que usará de manera interna para operar con ellos."
   ]
  },
  {
   "cell_type": "code",
   "execution_count": 21,
   "id": "seasonal-press",
   "metadata": {},
   "outputs": [
    {
     "data": {
      "text/plain": [
       "['__class__',\n",
       " '__delattr__',\n",
       " '__dict__',\n",
       " '__dir__',\n",
       " '__doc__',\n",
       " '__eq__',\n",
       " '__format__',\n",
       " '__ge__',\n",
       " '__getattribute__',\n",
       " '__gt__',\n",
       " '__hash__',\n",
       " '__init__',\n",
       " '__init_subclass__',\n",
       " '__le__',\n",
       " '__lt__',\n",
       " '__module__',\n",
       " '__ne__',\n",
       " '__new__',\n",
       " '__reduce__',\n",
       " '__reduce_ex__',\n",
       " '__repr__',\n",
       " '__setattr__',\n",
       " '__sizeof__',\n",
       " '__str__',\n",
       " '__subclasshook__',\n",
       " '__weakref__',\n",
       " 'varita']"
      ]
     },
     "execution_count": 21,
     "metadata": {},
     "output_type": "execute_result"
    }
   ],
   "source": [
    "class Mago:\n",
    "    varita = \"\"\n",
    "\n",
    "mago = Mago()\n",
    "\n",
    "dir(mago)  # dir devuelve todos los miembros de la clase, tanto atributos como métodos"
   ]
  },
  {
   "cell_type": "markdown",
   "id": "ethical-awareness",
   "metadata": {},
   "source": [
    "Por lo tanto, cualquier `mago` podrá hacer uso de todos estos métodos. Pero, ¿que significan todos estos **métodos**?\n",
    "\n",
    "Son operaciones internas que hace **Python**. Mira el siguiente ejemplo:"
   ]
  },
  {
   "cell_type": "code",
   "execution_count": 22,
   "id": "variable-boundary",
   "metadata": {},
   "outputs": [
    {
     "name": "stdout",
     "output_type": "stream",
     "text": [
      "<__main__.Mago object at 0x000001FB62FE1310>\n"
     ]
    }
   ],
   "source": [
    "print(mago)"
   ]
  },
  {
   "cell_type": "markdown",
   "id": "ambient-marking",
   "metadata": {},
   "source": [
    "Cualquier objeto tiene una representación como `string`. Esto es porque tiene el **método mágico** `__str__` por lo que..."
   ]
  },
  {
   "cell_type": "code",
   "execution_count": 26,
   "id": "honest-channel",
   "metadata": {},
   "outputs": [
    {
     "name": "stdout",
     "output_type": "stream",
     "text": [
      "Soy un mago y mi varita es poderosa\n"
     ]
    }
   ],
   "source": [
    "class Mago:\n",
    "    varita = \"poderosa\"\n",
    "    \n",
    "    def __str__(self):\n",
    "        return f\"Soy un mago y mi varita es {self.varita}\"\n",
    "\n",
    "mago = Mago()\n",
    "\n",
    "print(str(mago))"
   ]
  },
  {
   "cell_type": "markdown",
   "id": "greek-storage",
   "metadata": {},
   "source": [
    "Se puede alterar la representación de un objeto como `string` **sobreescribiendo** el método `__str__`."
   ]
  },
  {
   "cell_type": "markdown",
   "id": "approximate-newfoundland",
   "metadata": {},
   "source": [
    "### Herencia Múltiple\n",
    "\n",
    "En **Python** es posible **heredar** de más de una **clase**. Resulta útil cuando una **clase** puede resolver gran parte de su funcionlidad a partir de dos **clases** que ya están implementadas. "
   ]
  },
  {
   "cell_type": "markdown",
   "id": "behavioral-dispatch",
   "metadata": {},
   "source": [
    "### Alterando objetos y clases\n",
    "\n",
    "Aunque tengamos **objetos** de una clase ya instanciados, es posible añadir **propiedades** e incluso **métodos**:"
   ]
  },
  {
   "cell_type": "code",
   "execution_count": 30,
   "id": "color-carter",
   "metadata": {},
   "outputs": [
    {
     "name": "stdout",
     "output_type": "stream",
     "text": [
      "Hola Python\n"
     ]
    },
    {
     "ename": "AttributeError",
     "evalue": "'Saludo' object has no attribute 'adios'",
     "output_type": "error",
     "traceback": [
      "\u001b[1;31m---------------------------------------------------------------------------\u001b[0m",
      "\u001b[1;31mAttributeError\u001b[0m                            Traceback (most recent call last)",
      "\u001b[1;32m<ipython-input-30-616449909997>\u001b[0m in \u001b[0;36m<module>\u001b[1;34m\u001b[0m\n\u001b[0;32m      9\u001b[0m \u001b[1;33m\u001b[0m\u001b[0m\n\u001b[0;32m     10\u001b[0m \u001b[0msaludo\u001b[0m\u001b[1;33m.\u001b[0m\u001b[0mhola\u001b[0m\u001b[1;33m(\u001b[0m\u001b[1;33m)\u001b[0m\u001b[1;33m\u001b[0m\u001b[1;33m\u001b[0m\u001b[0m\n\u001b[1;32m---> 11\u001b[1;33m \u001b[0msaludo\u001b[0m\u001b[1;33m.\u001b[0m\u001b[0madios\u001b[0m\u001b[1;33m(\u001b[0m\u001b[1;33m)\u001b[0m\u001b[1;33m\u001b[0m\u001b[1;33m\u001b[0m\u001b[0m\n\u001b[0m",
      "\u001b[1;31mAttributeError\u001b[0m: 'Saludo' object has no attribute 'adios'"
     ]
    }
   ],
   "source": [
    "class Saludo:\n",
    "    def __init__(self, nombre):\n",
    "        self.nombre = nombre\n",
    "        \n",
    "    def hola(self):\n",
    "        print(f\"Hola {self.nombre}\")\n",
    "              \n",
    "saludo = Saludo(\"Python\")\n",
    "              \n",
    "saludo.hola()\n",
    "saludo.adios()\n"
   ]
  },
  {
   "cell_type": "markdown",
   "id": "peripheral-agency",
   "metadata": {},
   "source": [
    "Se ha llamado al **método** `adios` que no está implementado, pero en **python** se puede añadir a posteriori:"
   ]
  },
  {
   "cell_type": "code",
   "execution_count": 31,
   "id": "super-stuff",
   "metadata": {},
   "outputs": [
    {
     "name": "stdout",
     "output_type": "stream",
     "text": [
      "Adios Python\n"
     ]
    }
   ],
   "source": [
    "def adios(self):\n",
    "    print(f\"Adios {self.nombre}\")\n",
    "    \n",
    "Saludo.adios = adios  # Se añade la función a la clase\n",
    "\n",
    "saludo.adios()"
   ]
  },
  {
   "cell_type": "markdown",
   "id": "hungry-chart",
   "metadata": {},
   "source": [
    "A partir de ese momento, todos los **objetos** de la **clase** dispondrán del método `adios`, aunque fueran instanciados antes.\n",
    "\n",
    "También se pueden manipular los propios objetos:"
   ]
  },
  {
   "cell_type": "code",
   "execution_count": 32,
   "id": "looking-mounting",
   "metadata": {},
   "outputs": [
    {
     "data": {
      "text/plain": [
       "'Mola'"
      ]
     },
     "execution_count": 32,
     "metadata": {},
     "output_type": "execute_result"
    }
   ],
   "source": [
    "saludo.apellido = \"Mola\"\n",
    "\n",
    "saludo.apellido"
   ]
  },
  {
   "cell_type": "markdown",
   "id": "athletic-biodiversity",
   "metadata": {},
   "source": [
    "En este caso solo se ha alterado el **objeto** instanciado."
   ]
  },
  {
   "cell_type": "markdown",
   "id": "wanted-mustang",
   "metadata": {},
   "source": [
    "### El decorador `@property`\n",
    "\n",
    "Un inciso: un **decorador** es un patron de diseño que permite modificar un objeto sin alterarlo. Es decir, si se *decora* una **función** o **método**, esta seguirá ejecutándose de manera normal al ser invocada, pero también ejecutará el **decorador**. Es algo así como un envoltorio. De hecho, se sitúan justo encima de aquello que decoran, precedido de `@`.\n",
    "\n",
    "Como vimos anteriormente, una **clase** está dotada de **atributos o propiedades** y **métodos** pero, ¿y si una **propiedad** es resultado de un cálculo?:"
   ]
  },
  {
   "cell_type": "code",
   "execution_count": 34,
   "id": "motivated-league",
   "metadata": {},
   "outputs": [
    {
     "data": {
      "text/plain": [
       "5"
      ]
     },
     "execution_count": 34,
     "metadata": {},
     "output_type": "execute_result"
    }
   ],
   "source": [
    "class Suma:\n",
    "    def __init__(self, a, b):\n",
    "        self.a = a\n",
    "        self.b = b\n",
    "    \n",
    "    @property\n",
    "    def resultado(self):\n",
    "        return self.a + self.b\n",
    "\n",
    "    \n",
    "nueva_suma = Suma(5, 3)\n",
    "nueva_suma.resultado"
   ]
  },
  {
   "cell_type": "markdown",
   "id": "mechanical-seller",
   "metadata": {},
   "source": [
    "Como se ve en el ejemplo, `nueva_suma` tiene la propiedad `resultado` que es, valga la redundancia, el resultado de la operación."
   ]
  },
  {
   "cell_type": "markdown",
   "id": "southeast-stuart",
   "metadata": {},
   "source": [
    "## Ejercicios\n",
    "\n",
    "1. En un archivo nuevo llamado `modelos.py`, crea una nueva clase llamada `Noticia` con las siguientes propiedades. Todas son cadenas de texto, excepto `fecha_publicacion`:\n",
    "    - titulo\n",
    "    - resumen\n",
    "    - categoria\n",
    "    - autor\n",
    "    - enlace\n",
    "    - fecha_publicacion: que contendrá un objeto `datetime`.\n",
    "\n",
    "2. Modifica el **método mágico** correspondiente para que una `Noticia` se pueda convertir en cadena de texto con el siguiente formato: `AAAA-MM-DD HH:MM - Título - Autor`\n",
    "\n",
    "3. Añade una nueva propiedad `id` que se calcule a partir de `fecha_publicacion` y `autor`. Pista:\n",
    "```\n",
    "import haslib\n",
    "hashlib.md5(f\"{fecha_publicacion}{autor}\".encode()).hexdigest()  # Calcula un hash md5 :D\n",
    "```\n",
    "\n",
    "4. Instancia tres objetos `Noticia` manualmente y demuestra como se convierten al formato anterior."
   ]
  },
  {
   "cell_type": "code",
   "execution_count": 42,
   "id": "metric-composer",
   "metadata": {},
   "outputs": [
    {
     "name": "stdout",
     "output_type": "stream",
     "text": [
      "2021-03-18 - Esto es una clase de python - Francisco Molina\n",
      "a83d4dbf3a3944bf1ead15fe4da46149\n"
     ]
    }
   ],
   "source": [
    "from datetime import datetime\n",
    "import hashlib\n",
    "\n",
    "class Noticia:\n",
    "    titulo = \"\"\n",
    "    resumen = \"\"\n",
    "    categoria = \"\"\n",
    "    autor = \"\"\n",
    "    enlace = \"\"\n",
    "    fecha_publicacion = None\n",
    "    \n",
    "    def __init__(self, titulo, resumen, categoria, autor, enlace, fecha_publicacion):\n",
    "        self.titulo = titulo\n",
    "        self.resumen = resumen\n",
    "        self.categoria = categoria\n",
    "        self.autor = autor\n",
    "        self.enlace = enlace\n",
    "        self.fecha_publicacion = fecha_publicacion\n",
    "        \n",
    "    def __str__(self):\n",
    "        return self.fecha_publicacion.strftime('%Y-%m-%d') + \" - \" + self.titulo + \" - \" + self.autor\n",
    "    \n",
    "    @property\n",
    "    def id(self):\n",
    "        return hashlib.md5(f\"{self.fecha_publicacion}{self.autor}\".encode()).hexdigest()\n",
    "    \n",
    "noticia_1 = Noticia(\"Esto es una clase de python\", \"Estoy aprendiendo python\", \"Programacion\", \"Francisco Molina\", \"http://localhost\", datetime.now())\n",
    "\n",
    "print(noticia_1)\n",
    "print(noticia_1.id)"
   ]
  },
  {
   "cell_type": "markdown",
   "id": "another-marks",
   "metadata": {},
   "source": [
    "## Referencias\n",
    "\n",
    "[Datetimes](https://docs.python.org/3/library/datetime.html#strftime-and-strptime-format-codes)"
   ]
  },
  {
   "cell_type": "code",
   "execution_count": null,
   "id": "front-spain",
   "metadata": {},
   "outputs": [],
   "source": []
  }
 ],
 "metadata": {
  "kernelspec": {
   "display_name": "Python 3",
   "language": "python",
   "name": "python3"
  },
  "language_info": {
   "codemirror_mode": {
    "name": "ipython",
    "version": 3
   },
   "file_extension": ".py",
   "mimetype": "text/x-python",
   "name": "python",
   "nbconvert_exporter": "python",
   "pygments_lexer": "ipython3",
   "version": "3.8.8"
  }
 },
 "nbformat": 4,
 "nbformat_minor": 5
}
