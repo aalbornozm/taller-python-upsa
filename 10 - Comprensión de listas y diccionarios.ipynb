{
 "cells": [
  {
   "cell_type": "markdown",
   "id": "green-philippines",
   "metadata": {},
   "source": [
    "# Comprensión de listas y diccionarios"
   ]
  },
  {
   "cell_type": "markdown",
   "id": "vulnerable-unknown",
   "metadata": {},
   "source": [
    "## Introducción\n",
    "\n",
    "La **comprensión** de **listas** o **diccionarios** (list/dict comprehension) puede resumirse como la obtención de **listas** o **diccionarios** nuevos resultado de una iteración en la que se aplica una operación y/o una condición.\n",
    "\n",
    "Es mas fácil verlo que explicarlo. Hasta ahora, para recorrer una **lista** o un **diccionario** se ha utilizado el bucle **for...in**:"
   ]
  },
  {
   "cell_type": "code",
   "execution_count": 6,
   "id": "alternative-plasma",
   "metadata": {},
   "outputs": [
    {
     "name": "stdout",
     "output_type": "stream",
     "text": [
      "0\n",
      "1\n",
      "2\n",
      "3\n",
      "4\n",
      "5\n",
      "6\n",
      "7\n",
      "8\n",
      "9\n",
      "Ahora se obtendrá una lista de pares\n",
      "Lista de pares: [0, 2, 4, 6, 8]\n"
     ]
    }
   ],
   "source": [
    "test_list = [0, 1, 2, 3, 4, 5, 6, 7, 8, 9]\n",
    "\n",
    "for item in test_list:\n",
    "    print(item)\n",
    "    \n",
    "print(\"Ahora se obtendrá una lista de pares\")\n",
    "\n",
    "pares = []\n",
    "\n",
    "for item in test_list:\n",
    "    if item % 2 == 0:\n",
    "        pares.append(item)\n",
    "        \n",
    "print(f\"Lista de pares: {pares}\")"
   ]
  },
  {
   "cell_type": "markdown",
   "id": "surrounded-joyce",
   "metadata": {},
   "source": [
    "Pero con **comprensión de listas**:"
   ]
  },
  {
   "cell_type": "code",
   "execution_count": 8,
   "id": "eight-thomas",
   "metadata": {},
   "outputs": [
    {
     "name": "stdout",
     "output_type": "stream",
     "text": [
      "Lista de pares: [0, 2, 4, 6, 8]\n"
     ]
    }
   ],
   "source": [
    "pares = [item for item in test_list if item % 2 == 0]\n",
    "\n",
    "print(f\"Lista de pares: {pares}\")"
   ]
  },
  {
   "cell_type": "markdown",
   "id": "normal-blood",
   "metadata": {},
   "source": [
    "## Comprensión de listas (list comprehension)\n",
    "\n",
    "Aunque en algunos lugares se *castellaniza* como **comprensión de listas**, lo normal es ver su nombre en inglés (como en casi todo) **list comprehension**. Como se observa en ejemplo anterior, una **list comprehension** no es mas que la obtención de una nueva **lista** a partir de una iteración.\n",
    "\n",
    "Como en las **listas** habituales, se hace con `[]` pero en lugar de elementos separados por coma, se incluye un bucle **for...in**. Este puede ir acompañado por una **condición** if, lo que reducirá el número de elementos cuando este se evalúe a `False` y adicionalmente se puede agregar una operación justo antes de añadir el elemento a la lista.\n",
    "\n",
    "Una expresión **list comprehension** puede dividirse en las siguientes fases:\n",
    "\n",
    "1. **\\[** ... **for** item **in** list ... **\\]** o *fase de bucle*: Es el punto de la expresión donde se itera sobre la lista. Se podría decir que es la misma en ejecutarse, dado que el elemento actual de la lista va a estar disponible en las otras dos *fases*.\n",
    "\n",
    "2. **\\[** ... <*1º bucle*> **if** item <*condición*> **\\]** o *fase de condicional* (opcional): Se establece una condición que hará de filtro para seleccionar los elementos que cumplan con la misma.\n",
    "\n",
    "3. **\\[** **item** ... <*1º bucle*> <*2º condición*> **\\]** o *fase de inserción*: Se añade el elemento a la nueva lista. Se pueden hacer operaciones con él antes de ser insertado.\n",
    "\n",
    "\n"
   ]
  },
  {
   "cell_type": "code",
   "execution_count": null,
   "id": "married-semiconductor",
   "metadata": {},
   "outputs": [],
   "source": []
  }
 ],
 "metadata": {
  "kernelspec": {
   "display_name": "Python 3",
   "language": "python",
   "name": "python3"
  },
  "language_info": {
   "codemirror_mode": {
    "name": "ipython",
    "version": 3
   },
   "file_extension": ".py",
   "mimetype": "text/x-python",
   "name": "python",
   "nbconvert_exporter": "python",
   "pygments_lexer": "ipython3",
   "version": "3.8.6"
  }
 },
 "nbformat": 4,
 "nbformat_minor": 5
}
